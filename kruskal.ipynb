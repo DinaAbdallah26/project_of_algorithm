{
 "cells": [
  {
   "cell_type": "code",
   "execution_count": 1,
   "id": "bf0b7069-eef1-499f-ad32-9f57ae9fa6a5",
   "metadata": {},
   "outputs": [
    {
     "name": "stdout",
     "output_type": "stream",
     "text": [
      "Edges in the Minimum Spanning Tree:\n",
      "2 -- 3 == 4\n",
      "0 -- 3 == 5\n",
      "0 -- 1 == 10\n"
     ]
    }
   ],
   "source": [
    "class Graph:\n",
    "    def __init__(self, vertices):\n",
    "        self.V = vertices  # Number of vertices\n",
    "        self.graph = []  # List to store edges: [weight, u, v]\n",
    "\n",
    "    # Add an edge to the graph\n",
    "    def add_edge(self, u, v, w):\n",
    "        self.graph.append([w, u, v])\n",
    "\n",
    "    # Find the parent of a node\n",
    "    def find_parent(self, parent, i):\n",
    "        if parent[i] == i:\n",
    "            return i\n",
    "        return self.find_parent(parent, parent[i])\n",
    "\n",
    "    # Perform union of two subsets\n",
    "    def union(self, parent, rank, x, y):\n",
    "        root_x = self.find_parent(parent, x)\n",
    "        root_y = self.find_parent(parent, y)\n",
    "\n",
    "        if rank[root_x] < rank[root_y]:\n",
    "            parent[root_x] = root_y\n",
    "        elif rank[root_x] > rank[root_y]:\n",
    "            parent[root_y] = root_x\n",
    "        else:\n",
    "            parent[root_y] = root_x\n",
    "            rank[root_x] += 1\n",
    "\n",
    "    # Kruskal's algorithm to find Minimum Spanning Tree\n",
    "    def kruskal_mst(self):\n",
    "        self.graph.sort()  # Sort edges by weight\n",
    "        parent = []\n",
    "        rank = []\n",
    "        result = []  # Store the MST edges\n",
    "\n",
    "        for node in range(self.V):\n",
    "            parent.append(node)\n",
    "            rank.append(0)\n",
    "\n",
    "        e = 0  # Number of edges in MST\n",
    "        i = 0  # Index for sorted edges\n",
    "\n",
    "        while e < self.V - 1:\n",
    "            w, u, v = self.graph[i]\n",
    "            i += 1\n",
    "            root_u = self.find_parent(parent, u)\n",
    "            root_v = self.find_parent(parent, v)\n",
    "\n",
    "            if root_u != root_v:\n",
    "                result.append([u, v, w])\n",
    "                self.union(parent, rank, root_u, root_v)\n",
    "                e += 1\n",
    "\n",
    "        # Print the edges of the MST\n",
    "        print(\"Edges in the Minimum Spanning Tree:\")\n",
    "        for u, v, weight in result:\n",
    "            print(f\"{u} -- {v} == {weight}\")\n",
    "\n",
    "# Test Kruskal's Algorithm\n",
    "if __name__ == \"__main__\":\n",
    "    g = Graph(4)\n",
    "    g.add_edge(0, 1, 10)\n",
    "    g.add_edge(0, 2, 6)\n",
    "    g.add_edge(0, 3, 5)\n",
    "    g.add_edge(1, 3, 15)\n",
    "    g.add_edge(2, 3, 4)\n",
    "\n",
    "    g.kruskal_mst()\n"
   ]
  },
  {
   "cell_type": "code",
   "execution_count": null,
   "id": "c4a69b7c-63fc-4622-9f7e-f42fc6091da7",
   "metadata": {},
   "outputs": [],
   "source": []
  }
 ],
 "metadata": {
  "kernelspec": {
   "display_name": "Python 3 (ipykernel)",
   "language": "python",
   "name": "python3"
  },
  "language_info": {
   "codemirror_mode": {
    "name": "ipython",
    "version": 3
   },
   "file_extension": ".py",
   "mimetype": "text/x-python",
   "name": "python",
   "nbconvert_exporter": "python",
   "pygments_lexer": "ipython3",
   "version": "3.11.5"
  }
 },
 "nbformat": 4,
 "nbformat_minor": 5
}
