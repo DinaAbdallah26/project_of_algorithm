{
 "cells": [
  {
   "cell_type": "code",
   "execution_count": 1,
   "id": "06925840-78bd-4274-9b7e-08daf91529e5",
   "metadata": {},
   "outputs": [
    {
     "name": "stdout",
     "output_type": "stream",
     "text": [
      "Original Array: [12, 11, 13, 5, 6, 7]\n",
      "Sorted Array: [5, 6, 7, 11, 12, 13]\n"
     ]
    }
   ],
   "source": [
    "# Function to heapify a subtree rooted at index i\n",
    "def heapify(arr, n, i):\n",
    "    largest = i  # Initialize largest as root\n",
    "    left = 2 * i + 1  # Left child index\n",
    "    right = 2 * i + 2  # Right child index\n",
    "\n",
    "    # Check if left child exists and is greater than root\n",
    "    if left < n and arr[left] > arr[largest]:\n",
    "        largest = left\n",
    "\n",
    "    # Check if right child exists and is greater than the current largest\n",
    "    if right < n and arr[right] > arr[largest]:\n",
    "        largest = right\n",
    "\n",
    "    # Change root if needed\n",
    "    if largest != i:\n",
    "        arr[i], arr[largest] = arr[largest], arr[i]  # Swap\n",
    "        heapify(arr, n, largest)  # Recursively heapify the affected subtree\n",
    "\n",
    "# Main function to perform heap sort\n",
    "def heap_sort(arr):\n",
    "    n = len(arr)\n",
    "\n",
    "    # Build a max heap\n",
    "    for i in range(n // 2 - 1, -1, -1):\n",
    "        heapify(arr, n, i)\n",
    "\n",
    "    # Extract elements one by one\n",
    "    for i in range(n - 1, 0, -1):\n",
    "        arr[i], arr[0] = arr[0], arr[i]  # Swap\n",
    "        heapify(arr, i, 0)\n",
    "\n",
    "# Test Heap Sort\n",
    "if __name__ == \"__main__\":\n",
    "    arr = [12, 11, 13, 5, 6, 7]\n",
    "    print(\"Original Array:\", arr)\n",
    "    heap_sort(arr)\n",
    "    print(\"Sorted Array:\", arr)\n"
   ]
  },
  {
   "cell_type": "code",
   "execution_count": null,
   "id": "8b433b52-ee05-4d39-916d-175f77e5c550",
   "metadata": {},
   "outputs": [],
   "source": []
  }
 ],
 "metadata": {
  "kernelspec": {
   "display_name": "Python 3 (ipykernel)",
   "language": "python",
   "name": "python3"
  },
  "language_info": {
   "codemirror_mode": {
    "name": "ipython",
    "version": 3
   },
   "file_extension": ".py",
   "mimetype": "text/x-python",
   "name": "python",
   "nbconvert_exporter": "python",
   "pygments_lexer": "ipython3",
   "version": "3.11.5"
  }
 },
 "nbformat": 4,
 "nbformat_minor": 5
}
